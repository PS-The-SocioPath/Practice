{
  "nbformat": 4,
  "nbformat_minor": 0,
  "metadata": {
    "colab": {
      "provenance": []
    },
    "kernelspec": {
      "name": "python3",
      "display_name": "Python 3"
    },
    "language_info": {
      "name": "python"
    }
  },
  "cells": [
    {
      "cell_type": "markdown",
      "source": [
        "## Name: Pratham B Shah\n",
        "\n",
        "## Roll Number: 200110102"
      ],
      "metadata": {
        "id": "P_NVsYCftra7"
      }
    },
    {
      "cell_type": "markdown",
      "source": [
        "## Instructions\n",
        "\n",
        "* Please don't try to fill/write the code in this file.\n",
        "* Firstly, make a copy of this file to your drive.\n",
        "* Then fill the code block wherever it is required.\n",
        "* There will be submission link below. The same link will be provided in nition page too.\n",
        "* Please try to code to the point. Don't make the code to revolve arounf something that is really unnecessary.\n",
        "* You can take the help from LLM's and get the overview of the problem on how to approach, understand any errors to resolve them.\n",
        "* Please try to code yourself. As it is the first assignment, we are making it easy. `Don't Copy / Paste` the code directly from `ChatGPT / Gemini` or any other LLM's as it gives nothing to learn apart from the code.\n",
        "* If you are really not able to code it, I suggest you to please revisit the resources provided.\n",
        "* Still if you face any issue, post the issue along with screenshot in the group.\n",
        "\n",
        "### Submission link: https://forms.gle/gBP63kJ71mGwGi7i9\n"
      ],
      "metadata": {
        "id": "BMKgSYiLtziM"
      }
    },
    {
      "cell_type": "markdown",
      "source": [
        "# Part 1"
      ],
      "metadata": {
        "id": "9Y1yMGQMv-lA"
      }
    },
    {
      "cell_type": "markdown",
      "source": [
        "### Q1: Create a function to generate `200` random integers between `50` to `500` and return the `sum of integer at odd indices` and `sum of integers at even indices` seperately"
      ],
      "metadata": {
        "id": "FRF_a61g1aGp"
      }
    },
    {
      "cell_type": "code",
      "execution_count": 650,
      "metadata": {
        "id": "rHItOKtztnpJ",
        "colab": {
          "base_uri": "https://localhost:8080/"
        },
        "outputId": "a1597eab-e25e-4a7a-b3d9-9e0a08ea835d"
      },
      "outputs": [
        {
          "output_type": "stream",
          "name": "stdout",
          "text": [
            "[[307 237  84 352 363 157 285  90 222 284 239 242 432 482 161 160 265 313\n",
            "  456 115 160 221 178 140 475  97 253 119 395 361 160 457 498 349 295 122\n",
            "  424 308 378 259 383 352 277 275 366 312 139 474 134 158 206  86 373 187\n",
            "  496 464 385 414 462 265  66 393  75 195 166 325 422 173 294 443 223 290\n",
            "  248 404 452 379 106 119  80 214 478 209 469 317  89 400 260 171  79 144\n",
            "  217 403 312  94 299 404 402  50 103 122  98 138 368 124 157 168 169 476\n",
            "  225 233 259 219 406 456 153 133  77 404 250 123 395 317 228 479 215 152\n",
            "  460 196 110 449 229 396 190  92 314 365 142 256 303 337 418 108 401 482\n",
            "  317 155 491 177 153 202 269 267 319 208 183 352 148 176  96 480  76 203\n",
            "  216 263 201 357 269 228 364 133 183 335 264 484 387 108  86 230 230 224\n",
            "   53 160 212 193 238 141 340  64 358  52  67 214 142  94 109 357 324 158\n",
            "  213 410]]\n",
            "Sum at Odd Indices is: 25629\n",
            "Sum at Even Indices is: 25966\n"
          ]
        }
      ],
      "source": [
        "import numpy as np\n",
        "from numpy import random\n",
        "\n",
        "sum_1 = 0\n",
        "\n",
        "\n",
        "a = np.random.randint(50,500, size=(1,200))\n",
        "print(a)\n",
        "\n",
        "b = a\n",
        "\n",
        "### Sum at Odd Positions\n",
        "print(\"Sum at Odd Indices is:\", a[0, 1::2].sum())\n",
        "\n",
        "### Sum at Even Positions\n",
        "print(\"Sum at Even Indices is:\", a[0, 0::2].sum())"
      ]
    },
    {
      "cell_type": "markdown",
      "source": [
        "#### Q2: From the random numbers generated in the Q1, create a function that returns only the `prime integers`."
      ],
      "metadata": {
        "id": "spjtSyaF2Fyw"
      }
    },
    {
      "cell_type": "code",
      "source": [
        "# import sympy\n",
        "\n",
        "# for i in range(0,200):\n",
        "#   if(sympy.isprime(b[0,i]) == True):\n",
        "#     print(b[0,i], 'is a Prime No.')\n",
        "#   else:\n",
        "#     print(b[0,i], 'is not a Prime No.')\n",
        "\n",
        "### I think there is no way to run nested 'for' loops which run for so long as python is slow compared to other programming languages, so we can use sympy library\n",
        "\n",
        "### we can use recursion as follows\n",
        "\n",
        "print(b)\n",
        "\n",
        "def prime_integers(num, k):\n",
        "  if num%k == 0:\n",
        "    return False\n",
        "\n",
        "  if ((prime_integers(num ,k-1)) == False) & (k>=3):\n",
        "    return False\n",
        "\n",
        "  return True         ### After everything doesn't work\n",
        "\n",
        "for i in range(0,200):\n",
        "  if (prime_integers(b[0,i], b[0,i]//2)) == True:               #### one error that I was making since long, i didnt use the floor division symbol\n",
        "    print(b[0,i], 'is a Prime number')                          #### to round it to nearest whole number\n",
        "\n",
        "  else:\n",
        "    print(b[0,i], 'is not a Prime number')"
      ],
      "metadata": {
        "id": "dzTnIa9i2Vh-",
        "colab": {
          "base_uri": "https://localhost:8080/"
        },
        "outputId": "33386aec-759a-45dc-c1b0-5047efc2a09c"
      },
      "execution_count": 651,
      "outputs": [
        {
          "output_type": "stream",
          "name": "stdout",
          "text": [
            "[[307 237  84 352 363 157 285  90 222 284 239 242 432 482 161 160 265 313\n",
            "  456 115 160 221 178 140 475  97 253 119 395 361 160 457 498 349 295 122\n",
            "  424 308 378 259 383 352 277 275 366 312 139 474 134 158 206  86 373 187\n",
            "  496 464 385 414 462 265  66 393  75 195 166 325 422 173 294 443 223 290\n",
            "  248 404 452 379 106 119  80 214 478 209 469 317  89 400 260 171  79 144\n",
            "  217 403 312  94 299 404 402  50 103 122  98 138 368 124 157 168 169 476\n",
            "  225 233 259 219 406 456 153 133  77 404 250 123 395 317 228 479 215 152\n",
            "  460 196 110 449 229 396 190  92 314 365 142 256 303 337 418 108 401 482\n",
            "  317 155 491 177 153 202 269 267 319 208 183 352 148 176  96 480  76 203\n",
            "  216 263 201 357 269 228 364 133 183 335 264 484 387 108  86 230 230 224\n",
            "   53 160 212 193 238 141 340  64 358  52  67 214 142  94 109 357 324 158\n",
            "  213 410]]\n",
            "307 is a Prime number\n",
            "237 is not a Prime number\n",
            "84 is not a Prime number\n",
            "352 is not a Prime number\n",
            "363 is not a Prime number\n",
            "157 is a Prime number\n",
            "285 is not a Prime number\n",
            "90 is not a Prime number\n",
            "222 is not a Prime number\n",
            "284 is not a Prime number\n",
            "239 is a Prime number\n",
            "242 is not a Prime number\n",
            "432 is not a Prime number\n",
            "482 is not a Prime number\n",
            "161 is not a Prime number\n",
            "160 is not a Prime number\n",
            "265 is not a Prime number\n",
            "313 is a Prime number\n",
            "456 is not a Prime number\n",
            "115 is not a Prime number\n",
            "160 is not a Prime number\n",
            "221 is not a Prime number\n",
            "178 is not a Prime number\n",
            "140 is not a Prime number\n",
            "475 is not a Prime number\n",
            "97 is a Prime number\n",
            "253 is not a Prime number\n",
            "119 is not a Prime number\n",
            "395 is not a Prime number\n",
            "361 is not a Prime number\n",
            "160 is not a Prime number\n",
            "457 is a Prime number\n",
            "498 is not a Prime number\n",
            "349 is a Prime number\n",
            "295 is not a Prime number\n",
            "122 is not a Prime number\n",
            "424 is not a Prime number\n",
            "308 is not a Prime number\n",
            "378 is not a Prime number\n",
            "259 is not a Prime number\n",
            "383 is a Prime number\n",
            "352 is not a Prime number\n",
            "277 is a Prime number\n",
            "275 is not a Prime number\n",
            "366 is not a Prime number\n",
            "312 is not a Prime number\n",
            "139 is a Prime number\n",
            "474 is not a Prime number\n",
            "134 is not a Prime number\n",
            "158 is not a Prime number\n",
            "206 is not a Prime number\n",
            "86 is not a Prime number\n",
            "373 is a Prime number\n",
            "187 is not a Prime number\n",
            "496 is not a Prime number\n",
            "464 is not a Prime number\n",
            "385 is not a Prime number\n",
            "414 is not a Prime number\n",
            "462 is not a Prime number\n",
            "265 is not a Prime number\n",
            "66 is not a Prime number\n",
            "393 is not a Prime number\n",
            "75 is not a Prime number\n",
            "195 is not a Prime number\n",
            "166 is not a Prime number\n",
            "325 is not a Prime number\n",
            "422 is not a Prime number\n",
            "173 is a Prime number\n",
            "294 is not a Prime number\n",
            "443 is a Prime number\n",
            "223 is a Prime number\n",
            "290 is not a Prime number\n",
            "248 is not a Prime number\n",
            "404 is not a Prime number\n",
            "452 is not a Prime number\n",
            "379 is a Prime number\n",
            "106 is not a Prime number\n",
            "119 is not a Prime number\n",
            "80 is not a Prime number\n",
            "214 is not a Prime number\n",
            "478 is not a Prime number\n",
            "209 is not a Prime number\n",
            "469 is not a Prime number\n",
            "317 is a Prime number\n",
            "89 is a Prime number\n",
            "400 is not a Prime number\n",
            "260 is not a Prime number\n",
            "171 is not a Prime number\n",
            "79 is a Prime number\n",
            "144 is not a Prime number\n",
            "217 is not a Prime number\n",
            "403 is not a Prime number\n",
            "312 is not a Prime number\n",
            "94 is not a Prime number\n",
            "299 is not a Prime number\n",
            "404 is not a Prime number\n",
            "402 is not a Prime number\n",
            "50 is not a Prime number\n",
            "103 is a Prime number\n",
            "122 is not a Prime number\n",
            "98 is not a Prime number\n",
            "138 is not a Prime number\n",
            "368 is not a Prime number\n",
            "124 is not a Prime number\n",
            "157 is a Prime number\n",
            "168 is not a Prime number\n",
            "169 is not a Prime number\n",
            "476 is not a Prime number\n",
            "225 is not a Prime number\n",
            "233 is a Prime number\n",
            "259 is not a Prime number\n",
            "219 is not a Prime number\n",
            "406 is not a Prime number\n",
            "456 is not a Prime number\n",
            "153 is not a Prime number\n",
            "133 is not a Prime number\n",
            "77 is not a Prime number\n",
            "404 is not a Prime number\n",
            "250 is not a Prime number\n",
            "123 is not a Prime number\n",
            "395 is not a Prime number\n",
            "317 is a Prime number\n",
            "228 is not a Prime number\n",
            "479 is a Prime number\n",
            "215 is not a Prime number\n",
            "152 is not a Prime number\n",
            "460 is not a Prime number\n",
            "196 is not a Prime number\n",
            "110 is not a Prime number\n",
            "449 is a Prime number\n",
            "229 is a Prime number\n",
            "396 is not a Prime number\n",
            "190 is not a Prime number\n",
            "92 is not a Prime number\n",
            "314 is not a Prime number\n",
            "365 is not a Prime number\n",
            "142 is not a Prime number\n",
            "256 is not a Prime number\n",
            "303 is not a Prime number\n",
            "337 is a Prime number\n",
            "418 is not a Prime number\n",
            "108 is not a Prime number\n",
            "401 is a Prime number\n",
            "482 is not a Prime number\n",
            "317 is a Prime number\n",
            "155 is not a Prime number\n",
            "491 is a Prime number\n",
            "177 is not a Prime number\n",
            "153 is not a Prime number\n",
            "202 is not a Prime number\n",
            "269 is a Prime number\n",
            "267 is not a Prime number\n",
            "319 is not a Prime number\n",
            "208 is not a Prime number\n",
            "183 is not a Prime number\n",
            "352 is not a Prime number\n",
            "148 is not a Prime number\n",
            "176 is not a Prime number\n",
            "96 is not a Prime number\n",
            "480 is not a Prime number\n",
            "76 is not a Prime number\n",
            "203 is not a Prime number\n",
            "216 is not a Prime number\n",
            "263 is a Prime number\n",
            "201 is not a Prime number\n",
            "357 is not a Prime number\n",
            "269 is a Prime number\n",
            "228 is not a Prime number\n",
            "364 is not a Prime number\n",
            "133 is not a Prime number\n",
            "183 is not a Prime number\n",
            "335 is not a Prime number\n",
            "264 is not a Prime number\n",
            "484 is not a Prime number\n",
            "387 is not a Prime number\n",
            "108 is not a Prime number\n",
            "86 is not a Prime number\n",
            "230 is not a Prime number\n",
            "230 is not a Prime number\n",
            "224 is not a Prime number\n",
            "53 is a Prime number\n",
            "160 is not a Prime number\n",
            "212 is not a Prime number\n",
            "193 is a Prime number\n",
            "238 is not a Prime number\n",
            "141 is not a Prime number\n",
            "340 is not a Prime number\n",
            "64 is not a Prime number\n",
            "358 is not a Prime number\n",
            "52 is not a Prime number\n",
            "67 is a Prime number\n",
            "214 is not a Prime number\n",
            "142 is not a Prime number\n",
            "94 is not a Prime number\n",
            "109 is a Prime number\n",
            "357 is not a Prime number\n",
            "324 is not a Prime number\n",
            "158 is not a Prime number\n",
            "213 is not a Prime number\n",
            "410 is not a Prime number\n"
          ]
        }
      ]
    },
    {
      "cell_type": "markdown",
      "source": [
        "#### Q3: Write a function `generate_fibonacci_series()` that generates the first `50` numbers in the Fibonacci sequence and returns them as a list when the function is called."
      ],
      "metadata": {
        "id": "eyoqHM6N2W6p"
      }
    },
    {
      "cell_type": "code",
      "source": [
        "l = []\n",
        "\n",
        "def generate_fibonacci_series(k):\n",
        "\n",
        "  term_1 = 0\n",
        "  term_2 = 1\n",
        "\n",
        "  l.append(0)\n",
        "  l.append(1)\n",
        "\n",
        "  while(k>0):\n",
        "    my_next_term = term_1 + term_2\n",
        "    l.append(my_next_term)\n",
        "    term_1 = term_2\n",
        "    term_2 = my_next_term\n",
        "    k = k-1\n",
        "\n",
        "  return l\n",
        "\n",
        "generate_fibonacci_series(50)"
      ],
      "metadata": {
        "id": "FI_A7dyf23VI",
        "colab": {
          "base_uri": "https://localhost:8080/"
        },
        "outputId": "08de67d3-ddf7-4078-9103-db63b6d18060"
      },
      "execution_count": 652,
      "outputs": [
        {
          "output_type": "execute_result",
          "data": {
            "text/plain": [
              "[0,\n",
              " 1,\n",
              " 1,\n",
              " 2,\n",
              " 3,\n",
              " 5,\n",
              " 8,\n",
              " 13,\n",
              " 21,\n",
              " 34,\n",
              " 55,\n",
              " 89,\n",
              " 144,\n",
              " 233,\n",
              " 377,\n",
              " 610,\n",
              " 987,\n",
              " 1597,\n",
              " 2584,\n",
              " 4181,\n",
              " 6765,\n",
              " 10946,\n",
              " 17711,\n",
              " 28657,\n",
              " 46368,\n",
              " 75025,\n",
              " 121393,\n",
              " 196418,\n",
              " 317811,\n",
              " 514229,\n",
              " 832040,\n",
              " 1346269,\n",
              " 2178309,\n",
              " 3524578,\n",
              " 5702887,\n",
              " 9227465,\n",
              " 14930352,\n",
              " 24157817,\n",
              " 39088169,\n",
              " 63245986,\n",
              " 102334155,\n",
              " 165580141,\n",
              " 267914296,\n",
              " 433494437,\n",
              " 701408733,\n",
              " 1134903170,\n",
              " 1836311903,\n",
              " 2971215073,\n",
              " 4807526976,\n",
              " 7778742049,\n",
              " 12586269025,\n",
              " 20365011074]"
            ]
          },
          "metadata": {},
          "execution_count": 652
        }
      ]
    },
    {
      "cell_type": "markdown",
      "source": [
        "#### Q4: Create a function that return the `vowels` from each word when a list of words is passed.\n",
        "\n",
        "Eg: words = [\"generative AI\", \"Artificial Intelligence\", \"random\", \"hallucinations\", \"Christmas\"]\n",
        "\n",
        "The output of the function must be in the below format:\n",
        "\n",
        "* Word: generative AI\n",
        "  * Vowels: `a`, `e`, `i`\n",
        "\n",
        "* Word: Artificial Intelligence\n",
        "  * Vowels: `a`, `e`, `i`\n",
        "\n",
        "* Word: Christmas\n",
        "  * Volwels: `a`, `i`\n",
        "\n",
        "Please observe the output format. The vowels of each word are arranged in order: `a, e, i, o, u`.\n",
        "\n",
        "Input: List of words\n",
        "\n",
        "Output: As in the example stated above."
      ],
      "metadata": {
        "id": "YkJ3Q1Nt2383"
      }
    },
    {
      "cell_type": "code",
      "source": [
        "def id_vowels(word):\n",
        "    l = []\n",
        "    vowels = \"AaEeIiOoUu\"\n",
        "\n",
        "    for i in word:\n",
        "        if i in vowels:\n",
        "            l.append(i)\n",
        "\n",
        "    # for i in l:\n",
        "    #     i.lower()\n",
        "    #     print(l)\n",
        "\n",
        "    return l\n",
        "\n",
        "words = [\"generative AI\", \"Artificial Intelligence\", \"random\", \"hallucinations\", \"Christmas\"]\n",
        "\n",
        "lower_vowels = \"aeiou\"\n",
        "\n",
        "for word in words:\n",
        "    k = id_vowels(word)\n",
        "\n",
        "    k.sort()\n",
        "\n",
        "    new_k = []\n",
        "\n",
        "    for j in k:\n",
        "        if j not in new_k:\n",
        "            new_k.append(j)\n",
        "\n",
        "    print(\"Word:\", word)\n",
        "    global final_k\n",
        "    final_k = []\n",
        "\n",
        "    for i in new_k:\n",
        "       if i in lower_vowels:\n",
        "          final_k.append(i)\n",
        "\n",
        "    print(\"Vowels:\", final_k)\n",
        "\n",
        "### This was the best sum of Part 1, I kept improving myself as I solved, though it can be shortened further, submitting for now"
      ],
      "metadata": {
        "id": "75PjXnP52602",
        "colab": {
          "base_uri": "https://localhost:8080/"
        },
        "outputId": "3fa42f7c-8642-4c39-c6f7-b5e291964fc2"
      },
      "execution_count": 653,
      "outputs": [
        {
          "output_type": "stream",
          "name": "stdout",
          "text": [
            "Word: generative AI\n",
            "Vowels: ['a', 'e', 'i']\n",
            "Word: Artificial Intelligence\n",
            "Vowels: ['a', 'e', 'i']\n",
            "Word: random\n",
            "Vowels: ['a', 'o']\n",
            "Word: hallucinations\n",
            "Vowels: ['a', 'i', 'o', 'u']\n",
            "Word: Christmas\n",
            "Vowels: ['a', 'i']\n"
          ]
        }
      ]
    },
    {
      "cell_type": "markdown",
      "source": [
        "# Part 2"
      ],
      "metadata": {
        "id": "dzd3RJBEv_5n"
      }
    },
    {
      "cell_type": "markdown",
      "source": [
        "#### Q1: Generate a 3x3 matrix with random numbers and write code to perform the below operations:\n",
        "* i. Extract the diagonal elements of the matrix.\n",
        "* ii. Replace all elements in the last row with zeros.\n",
        "* iii. Reverse the order of columns.\n",
        "* iv. Shift the numbers one position to the right in the matrix. If a number is currently in the last column, move it to the first column of the next row. The element in the last position (bottom-right) should wrap around to the first position (top-left)."
      ],
      "metadata": {
        "id": "qKJxM2Bs4FLx"
      }
    },
    {
      "cell_type": "code",
      "source": [
        "# Part 2\n",
        "\n",
        "## Q1) Generating random 3*3 matrix\n",
        "import numpy as np\n",
        "from numpy import random\n",
        "\n",
        "a = np.random.randint(1, 20, size=(3,3))\n",
        "print(a)\n",
        "\n",
        "### 1.i) Diagonal elements\n",
        "\n",
        "for i in range(len(a)):\n",
        "    for j in range(len(a)):\n",
        "        if(i==j):\n",
        "            print(a[i][j])\n",
        "\n",
        "### We can also make it np.matrix and use a.diagonal()\n",
        "\n",
        "# 1.ii) Replacing elements in last row\n",
        "\n",
        "while(i==2):\n",
        "    for j in range(len(a)):\n",
        "        a[i][j] = 0\n",
        "\n",
        "    print(a)\n",
        "    i = i - 1\n",
        "\n",
        "### Numpy replace() is for strings\n",
        "\n",
        "# 1.iii) Reversing order of columns\n",
        "\n",
        "for i in range(len(a)):\n",
        "    print(a[i][::-1])\n",
        "\n",
        "### Shifting numbers\n",
        "\n",
        "# if we see carefully, column 0 becomes column 1, column 1 becomes column 2, and column 3 is just rearranged slightly\n",
        "\n",
        "b = np.zeros((3,3))\n",
        "\n",
        "print(b)\n",
        "\n",
        "print(a)\n",
        "\n",
        "for i in range(len(a)):\n",
        "    for j in range(len(a)):\n",
        "        if (i==2) & (j==2):\n",
        "            b[i-2][j-2] = a[i][j]\n",
        "\n",
        "        elif (i==2) & (j!=2):\n",
        "            b[i][j+1] = a[i][j]\n",
        "\n",
        "        elif (i==1) & (j!=2):\n",
        "            b[i][j+1] = a[i][j]\n",
        "\n",
        "        elif (i==0) & (j!=2):\n",
        "            b[i][j+1] = a[i][j]\n",
        "\n",
        "        else:\n",
        "            b[i+1][j-2] = a[i][j]\n",
        "\n",
        "print(b)\n",
        "\n",
        "### Thinking of a faster way for above one"
      ],
      "metadata": {
        "id": "g5joSPw7wBuy",
        "colab": {
          "base_uri": "https://localhost:8080/"
        },
        "outputId": "6a7681b6-eb5e-45cf-d466-8edae0be3cb3"
      },
      "execution_count": 654,
      "outputs": [
        {
          "output_type": "stream",
          "name": "stdout",
          "text": [
            "[[ 9 12  2]\n",
            " [16  7  4]\n",
            " [14  3 18]]\n",
            "9\n",
            "7\n",
            "18\n",
            "[[ 9 12  2]\n",
            " [16  7  4]\n",
            " [ 0  0  0]]\n",
            "[ 2 12  9]\n",
            "[ 4  7 16]\n",
            "[0 0 0]\n",
            "[[0. 0. 0.]\n",
            " [0. 0. 0.]\n",
            " [0. 0. 0.]]\n",
            "[[ 9 12  2]\n",
            " [16  7  4]\n",
            " [ 0  0  0]]\n",
            "[[ 0.  9. 12.]\n",
            " [ 2. 16.  7.]\n",
            " [ 4.  0.  0.]]\n"
          ]
        }
      ]
    },
    {
      "cell_type": "markdown",
      "source": [
        "#### Q2: Create a NumPy array with 100 random integers ranging from 1 to 100. Find:\n",
        "* i. The mean and median of the array.\n",
        "* ii. The standard deviation and variance.\n",
        "* iii. The percentage of elements that are greater than 50."
      ],
      "metadata": {
        "id": "rq7geE4K_Bil"
      }
    },
    {
      "cell_type": "code",
      "source": [
        "### Q.2\n",
        "\n",
        "k = np.random.randint(1,100, size=(1,100))\n",
        "print(k)\n",
        "\n",
        "print(np.mean(k))\n",
        "print(np.median(k))\n",
        "print(np.std(k))\n",
        "print(np.var(k))\n",
        "print(np.count_nonzero(k[k>50]))   ### represents percentage, out of 100 - shows decimal if divided by 100\n",
        "\n",
        "### Need to provide axis argument, if required"
      ],
      "metadata": {
        "id": "e-lpm_AZ_IcY",
        "colab": {
          "base_uri": "https://localhost:8080/"
        },
        "outputId": "715d09b0-6dba-4798-8e51-a45114a982db"
      },
      "execution_count": 655,
      "outputs": [
        {
          "output_type": "stream",
          "name": "stdout",
          "text": [
            "[[47 89 24 84 41  3 84 42 83 53 22 30 78 64  6 66 29 66 66 91 50 89 90 78\n",
            "  11 75 69 80 88 44 41  6  8 72 41 44 78 42  9 73 87 79 75 26 85 40 76  5\n",
            "  13 49 16 58 61 78 15 35 84 11 53 28 90 98 74 73 43 20 16 10 45 75 81 14\n",
            "  16 68 12 13 14 56 71 24 63 44 90 51 94 89 84 42 75 77 95 89  5 32 77 15\n",
            "   1 37 95 12]]\n",
            "52.1\n",
            "53.0\n",
            "29.392345942438823\n",
            "863.9099999999999\n",
            "52\n"
          ]
        }
      ]
    },
    {
      "cell_type": "markdown",
      "source": [
        "#### Q3: Generate a 4x3 matrix and write the code to perform the below operations:\n",
        "\n",
        "* i. Reshape 4x3 matrix into a 6x2 matrix.\n",
        "* ii. Transpose the matrix the resultant matrix.\n",
        "* iii. Multiply each element by the column index of the transposed matrix using broadcasting (for 4x3 matrix)."
      ],
      "metadata": {
        "id": "eWZETnEh_JFE"
      }
    },
    {
      "cell_type": "code",
      "source": [
        "### Q.3\n",
        "\n",
        "### Reshaping\n",
        "l = np.random.randint(20,50, size=(4,3))\n",
        "print(l)\n",
        "print(l.reshape(6,2))\n",
        "\n",
        "### Transpose\n",
        "\n",
        "print(l.transpose())\n",
        "\n",
        "s = l.transpose().copy()\n",
        "\n",
        "### Multiplying by broadcasting\n",
        "\n",
        "for i in range(0,s.shape[1]):\n",
        "    for j in range(0, s.shape[0]):\n",
        "        l[i][j] = l[i][j] * i\n",
        "\n",
        "print(\"After Multiplying by Broadcasting:\\n\", l)"
      ],
      "metadata": {
        "id": "X_67POhu_e_z",
        "colab": {
          "base_uri": "https://localhost:8080/"
        },
        "outputId": "83bf5c6d-7eae-4d73-e9f7-50824ee20385"
      },
      "execution_count": 656,
      "outputs": [
        {
          "output_type": "stream",
          "name": "stdout",
          "text": [
            "[[43 25 37]\n",
            " [33 21 36]\n",
            " [45 20 36]\n",
            " [44 37 39]]\n",
            "[[43 25]\n",
            " [37 33]\n",
            " [21 36]\n",
            " [45 20]\n",
            " [36 44]\n",
            " [37 39]]\n",
            "[[43 33 45 44]\n",
            " [25 21 20 37]\n",
            " [37 36 36 39]]\n",
            "After Multiplying by Broadcasting:\n",
            " [[  0   0   0]\n",
            " [ 33  21  36]\n",
            " [ 90  40  72]\n",
            " [132 111 117]]\n"
          ]
        }
      ]
    },
    {
      "cell_type": "markdown",
      "source": [
        "#### Q4. Create two matrices of size 4x4 with random integers between 1 and 10. Perform the following:\n",
        "* i. Compute their element-wise sum and product.\n",
        "* ii. Find the dot product of the two matrices.\n",
        "* iii. Calculate the determinant and inverse of the first matrix. (Handle the case where the matrix is singular.)"
      ],
      "metadata": {
        "id": "A7oCdJKTBIIy"
      }
    },
    {
      "cell_type": "code",
      "source": [
        "### Q.4\n",
        "\n",
        "## Element wise sum\n",
        "r = np.random.randint(1,10, size=(4,4))\n",
        "print(r)\n",
        "t = np.random.randint(1,10, size=(4,4))\n",
        "print(t)\n",
        "\n",
        "w = r + t\n",
        "print(w)\n",
        "\n",
        "## Element wise product\n",
        "print(r*t)\n",
        "\n",
        "## Dot Product\n",
        "print(np.matmul(r,t))\n",
        "\n",
        "## Determinant of r\n",
        "print(np.linalg.det(r))\n",
        "\n",
        "## Inverse of r\n",
        "print(np.linalg.inv(r))"
      ],
      "metadata": {
        "id": "yFbSzirsBIgJ",
        "colab": {
          "base_uri": "https://localhost:8080/"
        },
        "outputId": "2e3edbd7-7f88-4601-ea7f-b33c095039f2"
      },
      "execution_count": 657,
      "outputs": [
        {
          "output_type": "stream",
          "name": "stdout",
          "text": [
            "[[2 7 2 2]\n",
            " [9 9 3 2]\n",
            " [9 7 7 5]\n",
            " [4 4 9 3]]\n",
            "[[6 9 1 1]\n",
            " [7 8 2 9]\n",
            " [4 4 4 7]\n",
            " [3 7 3 3]]\n",
            "[[ 8 16  3  3]\n",
            " [16 17  5 11]\n",
            " [13 11 11 12]\n",
            " [ 7 11 12  6]]\n",
            "[[12 63  2  2]\n",
            " [63 72  6 18]\n",
            " [36 28 28 35]\n",
            " [12 28 27  9]]\n",
            "[[ 75  96  30  85]\n",
            " [135 179  45 117]\n",
            " [146 200  66 136]\n",
            " [ 97 125  57 112]]\n",
            "819.0000000000002\n",
            "[[-0.18192918  0.12210012  0.04517705 -0.03540904]\n",
            " [ 0.15995116  0.05372405 -0.1001221   0.02442002]\n",
            " [-0.04639805  0.03785104 -0.11599512  0.1990232 ]\n",
            " [ 0.16849817 -0.34798535  0.42124542 -0.24908425]]\n"
          ]
        }
      ]
    },
    {
      "cell_type": "markdown",
      "source": [
        "# Part 3"
      ],
      "metadata": {
        "id": "_gl4Ydd9wBH2"
      }
    },
    {
      "cell_type": "markdown",
      "source": [
        "  Using Python and Pandas, Create a DataFrame with the following columns:\n",
        "\n",
        "\n",
        "*   x : 100 equally spaced values ranging from 0 to 2π.\n",
        "*  sin(x) : The sine of each x value\n",
        "*  cos(x) : The cose of each x value\n",
        "\n",
        "Answer the following questions:\n"
      ],
      "metadata": {
        "id": "EecKixPG6f8a"
      }
    },
    {
      "cell_type": "markdown",
      "source": [
        "#### Q1.   Display the first 10 rows of the Dataset\n"
      ],
      "metadata": {
        "id": "lzfJnIWh8Q7Q"
      }
    },
    {
      "cell_type": "code",
      "source": [
        "### Part 3\n",
        "\n",
        "### First 10 rows and creating dataframe\n",
        "\n",
        "import pandas as pd\n",
        "\n",
        "j = np.linspace(0, 2*np.pi, 100)\n",
        "\n",
        "dict_1 = {\"x\": j, \"sin(x)\": np.sin(j), \"cos(x)\": np.cos(j)}\n",
        "\n",
        "df = pd.DataFrame(dict_1)\n",
        "print(df.head(10))"
      ],
      "metadata": {
        "id": "8SCbKEdlWCzi",
        "colab": {
          "base_uri": "https://localhost:8080/"
        },
        "outputId": "a3fad085-08d3-446b-a3b7-a799a57a224a"
      },
      "execution_count": 658,
      "outputs": [
        {
          "output_type": "stream",
          "name": "stdout",
          "text": [
            "          x    sin(x)    cos(x)\n",
            "0  0.000000  0.000000  1.000000\n",
            "1  0.063467  0.063424  0.997987\n",
            "2  0.126933  0.126592  0.991955\n",
            "3  0.190400  0.189251  0.981929\n",
            "4  0.253866  0.251148  0.967949\n",
            "5  0.317333  0.312033  0.950071\n",
            "6  0.380799  0.371662  0.928368\n",
            "7  0.444266  0.429795  0.902927\n",
            "8  0.507732  0.486197  0.873849\n",
            "9  0.571199  0.540641  0.841254\n"
          ]
        }
      ]
    },
    {
      "cell_type": "markdown",
      "source": [
        "#### Q2.   Provide the summary statistics of the dataset like number of rows and columns,mean,min,max...etc.\n",
        "\n"
      ],
      "metadata": {
        "id": "tFGqZYpG8i3A"
      }
    },
    {
      "cell_type": "code",
      "source": [
        "### Summary statistics of the dataset\n",
        "\n",
        "print(df.describe())\n",
        "\n",
        "# No of rows\n",
        "print(df.shape[0])\n",
        "\n",
        "# No of columns\n",
        "print(df.shape[1])\n",
        "\n",
        "### Variance\n",
        "print(\"Variance of individual columns\", df.var(numeric_only=True), sep='\\n')"
      ],
      "metadata": {
        "id": "RGm-zoOCWEIa",
        "colab": {
          "base_uri": "https://localhost:8080/"
        },
        "outputId": "879f2bdd-af05-4ca8-e12e-ef9cb3c3cf4f"
      },
      "execution_count": 659,
      "outputs": [
        {
          "output_type": "stream",
          "name": "stdout",
          "text": [
            "                x        sin(x)      cos(x)\n",
            "count  100.000000  1.000000e+02  100.000000\n",
            "mean     3.141593 -1.244130e-17    0.010000\n",
            "std      1.841258  7.071068e-01    0.714143\n",
            "min      0.000000 -9.998741e-01   -0.999497\n",
            "25%      1.570796 -6.957328e-01   -0.701475\n",
            "50%      3.141593 -1.224647e-16    0.015858\n",
            "75%      4.712389  6.957328e-01    0.723734\n",
            "max      6.283185  9.998741e-01    1.000000\n",
            "100\n",
            "3\n",
            "Variance of individual columns\n",
            "x         3.390232\n",
            "sin(x)    0.500000\n",
            "cos(x)    0.510000\n",
            "dtype: float64\n"
          ]
        }
      ]
    },
    {
      "cell_type": "markdown",
      "source": [
        "#### Q3.   Plot the sin(x) and cos(x) values against x using Matplotlib or Seaborn.\n"
      ],
      "metadata": {
        "id": "2eIe-w_NMRSI"
      }
    },
    {
      "cell_type": "code",
      "source": [
        "import matplotlib.pyplot as plt\n",
        "import seaborn as sns\n",
        "\n",
        "curves = ['sin(x)', 'cos(x)']\n",
        "\n",
        "plt.plot(j, np.sin(j), color = 'red', marker='.', markersize = 4, markeredgecolor = 'blue', label = curves[0])\n",
        "plt.plot(j, np.cos(j), color = 'green', marker='*', markersize = 4, markeredgecolor = 'brown', label = curves[1])\n",
        "\n",
        "plt.ylabel('sin(x) or cos(x)')\n",
        "plt.xlabel('x')\n",
        "\n",
        "plt.legend()\n",
        "plt.show()"
      ],
      "metadata": {
        "id": "QBQxgmrzXZJz",
        "colab": {
          "base_uri": "https://localhost:8080/",
          "height": 449
        },
        "outputId": "4ae374b0-3313-4488-8f56-981ee1326e37"
      },
      "execution_count": 660,
      "outputs": [
        {
          "output_type": "display_data",
          "data": {
            "text/plain": [
              "<Figure size 640x480 with 1 Axes>"
            ],
            "image/png": "[encoded data removed]"
          },
          "metadata": {}
        }
      ]
    },
    {
      "cell_type": "markdown",
      "source": [
        "#### Q4.   Find rows where the sum of sin(x) and cos(x) is within a range of [-0.5,0.5].\n",
        "\n",
        "Display these filtered rows\n",
        "\n",
        "\n",
        "\n"
      ],
      "metadata": {
        "id": "aatJZPXuWnJ5"
      }
    },
    {
      "cell_type": "code",
      "source": [
        "### Find rows\n",
        "\n",
        "# for i in j:\n",
        "#     if((np.sin(j)+np.cos(j)) >= -0.5) & ((np.sin(j) + np.cos(j)) <= 0.5):\n",
        "#         print(i)\n",
        "### Noob one, doesnt work\n",
        "\n",
        "print(\"Filtered Rows are:\\n\", df.loc[(df['sin(x)'] + df['cos(x)']) <= np.abs(-0.5)])"
      ],
      "metadata": {
        "id": "ShyoL-VWWnpL",
        "colab": {
          "base_uri": "https://localhost:8080/"
        },
        "outputId": "7a15fb3e-90de-4d9e-9d9a-f772c2390803"
      },
      "execution_count": 661,
      "outputs": [
        {
          "output_type": "stream",
          "name": "stdout",
          "text": [
            "Filtered Rows are:\n",
            "            x    sin(x)    cos(x)\n",
            "32  2.030929  0.895994 -0.444067\n",
            "33  2.094395  0.866025 -0.500000\n",
            "34  2.157862  0.832570 -0.553920\n",
            "35  2.221328  0.795762 -0.605610\n",
            "36  2.284795  0.755750 -0.654861\n",
            "..       ...       ...       ...\n",
            "88  5.585054 -0.642788  0.766044\n",
            "89  5.648520 -0.592908  0.805270\n",
            "90  5.711987 -0.540641  0.841254\n",
            "91  5.775453 -0.486197  0.873849\n",
            "92  5.838920 -0.429795  0.902927\n",
            "\n",
            "[61 rows x 3 columns]\n"
          ]
        }
      ]
    },
    {
      "cell_type": "markdown",
      "source": [
        "#### Q5.   Add a new column,tan(x), with the tangent of x (handle the cases where tan(x) is undefined by replacing such values with NaN,)\n"
      ],
      "metadata": {
        "id": "F78xDtRcXfPg"
      }
    },
    {
      "cell_type": "code",
      "source": [
        "### New Column - tan(x)\n",
        "\n",
        "df['tan(x)'] = np.tan(j)\n",
        "\n",
        "df.loc[np.abs(df[\"tan(x)\"]).between(20, 100), 'tan(x)'] = np.nan      ### Credit - Stack Overflow\n",
        "\n",
        "print(df.iloc[24,3])\n",
        "print(df.iloc[75,3])"
      ],
      "metadata": {
        "id": "Bdrd5BBSwZaM",
        "colab": {
          "base_uri": "https://localhost:8080/"
        },
        "outputId": "3ee706ae-a2cc-435c-f1c1-358394ea7419"
      },
      "execution_count": 662,
      "outputs": [
        {
          "output_type": "stream",
          "name": "stdout",
          "text": [
            "nan\n",
            "nan\n"
          ]
        }
      ]
    },
    {
      "cell_type": "markdown",
      "source": [
        "#### Q6.Plot the `sin(x)`, `cos(x)`, `tan(x)` on the same graph.\n",
        "\n",
        "* Make 2 plots one using Matplotlib and other with Seaborn.\n",
        "\n",
        "* Please enhance the plot by adding necesssary details."
      ],
      "metadata": {
        "id": "RBkDR_8W0VZp"
      }
    },
    {
      "cell_type": "code",
      "source": [
        "sns.set_style('white')\n",
        "colors_curves = ['red: sin(x)', 'green: cos(x)', 'pink: tan(x)']\n",
        "\n",
        "plt.plot(j, np.sin(j), color = 'red', marker='.', markersize = 4, markeredgecolor = 'blue', label = colors_curves[0])\n",
        "plt.plot(j, np.cos(j), color = 'green', marker='*', markersize = 4, markeredgecolor = 'brown', label = colors_curves[1])\n",
        "plt.plot(j, np.tan(j), color='pink', marker='+', markersize = 4, markeredgecolor = 'blue', label = colors_curves[2])\n",
        "\n",
        "plt.ylabel('Curves')\n",
        "plt.xlabel('x')\n",
        "\n",
        "plt.title('Trigonometric Functions')\n",
        "\n",
        "plt.legend()\n",
        "plt.show()\n",
        "\n",
        "sns.lineplot(np.sin(j))\n",
        "sns.lineplot(np.cos(j))\n",
        "sns.lineplot(np.tan(j))\n",
        "plt.show()\n",
        "\n",
        "### Will learn enhancing in seaborn soon (This week)\n",
        "\n",
        "plt.plot(j, np.sin(j), color = 'red', marker='.', markersize = 4, markeredgecolor = 'blue', label = colors_curves[0])\n",
        "plt.plot(j, np.cos(j), color = 'green', marker='*', markersize = 4, markeredgecolor = 'brown', label = colors_curves[1])\n",
        "plt.plot(j, np.tan(j), color='pink', marker='+', markersize = 4, markeredgecolor = 'blue', label = colors_curves[2])\n",
        "\n",
        "plt.axis([3, 6, -5, 5])           ### Can be modified as per requirement\n",
        "\n",
        "plt.ylabel('Curves')\n",
        "plt.xlabel('x')\n",
        "\n",
        "plt.legend()\n",
        "plt.show()"
      ],
      "metadata": {
        "id": "zCwA4M_gwDEk",
        "colab": {
          "base_uri": "https://localhost:8080/",
          "height": 1000
        },
        "outputId": "cdc437ad-6a18-4685-a6c2-822f3c0659b8"
      },
      "execution_count": 663,
      "outputs": [
        {
          "output_type": "display_data",
          "data": {
            "text/plain": [
              "<Figure size 640x480 with 1 Axes>"
            ],
            "image/png": "[encoded data removed]"
          },
          "metadata": {}
        },
        {
          "output_type": "display_data",
          "data": {
            "text/plain": [
              "<Figure size 640x480 with 1 Axes>"
            ],
            "image/png": "[encoded data removed]"
          },
          "metadata": {}
        },
        {
          "output_type": "display_data",
          "data": {
            "text/plain": [
              "<Figure size 640x480 with 1 Axes>"
            ],
            "image/png": "[encoded data removed]"
          },
          "metadata": {}
        }
      ]
    },
    {
      "cell_type": "markdown",
      "source": [
        "##Part 4"
      ],
      "metadata": {
        "id": "jeSFJ9Cd1Ni8"
      }
    },
    {
      "cell_type": "markdown",
      "source": [
        "Use the dataset given in the below link:\n",
        "\n",
        "[Sales.csv](https://drive.google.com/file/d/1gXVmie7JGJdaFxcyNB2I6tAj8IDtdZIw/view?usp=drivesdk)\n",
        "\n",
        "And answer the following questions"
      ],
      "metadata": {
        "id": "Ysj1sqIM1Vu4"
      }
    },
    {
      "cell_type": "markdown",
      "source": [
        "#### Q1. Branch Sales Comparison:\n",
        "\n",
        "\n",
        "*   What is the total revenue generated by each branch?\n",
        "*   Create a bar plot to compare the revenue of the branches.\n",
        "\n"
      ],
      "metadata": {
        "id": "K6hiadfl2iSm"
      }
    },
    {
      "cell_type": "code",
      "source": [
        "# ### Part 4\n",
        "\n",
        "url = 'https://docs.google.com/spreadsheets/d/e/2PACX-1vS9AjwaRMCArbFu3gFePR6VLQYBIpuDPIvMjFyjtbrMlORLZU3kCJ49IjHIDF-obSSfvZErXBJMzfuB/pub?gid=1218733659&single=true&output=csv'\n",
        "df_1 = pd.read_csv(url)\n",
        "print(df_1)\n",
        "\n",
        "### Total Revenue & Barplot\n",
        "print(df_1.groupby(['branch']).sum())\n",
        "\n",
        "plt.bar(df_1['branch'], df_1['total_price'])\n",
        "plt.show()\n"
      ],
      "metadata": {
        "id": "46gPhHuK1Orj",
        "colab": {
          "base_uri": "https://localhost:8080/",
          "height": 1000
        },
        "outputId": "17649696-e46d-4369-8841-08a3f89634b0"
      },
      "execution_count": 664,
      "outputs": [
        {
          "output_type": "stream",
          "name": "stdout",
          "text": [
            "     sale_id branch         city customer_type  gender  product_name  \\\n",
            "0          1      A     New York        Member    Male       Shampoo   \n",
            "1          2      B  Los Angeles        Normal  Female      Notebook   \n",
            "2          3      A     New York        Member  Female         Apple   \n",
            "3          4      A      Chicago        Normal    Male     Detergent   \n",
            "4          5      B  Los Angeles        Member  Female  Orange Juice   \n",
            "..       ...    ...          ...           ...     ...           ...   \n",
            "995      996      A     New York        Member  Female       Shampoo   \n",
            "996      997      A     New York        Member    Male     Detergent   \n",
            "997      998      A     New York        Member  Female       Shampoo   \n",
            "998      999      A     New York        Member  Female       Shampoo   \n",
            "999     1000      A     New York        Normal    Male  Orange Juice   \n",
            "\n",
            "    product_category  unit_price  quantity   tax  total_price  reward_points  \n",
            "0      Personal Care        5.50         3  1.16        17.66              1  \n",
            "1         Stationery        2.75        10  1.93        29.43              0  \n",
            "2             Fruits        1.20        15  1.26        19.26              1  \n",
            "3          Household        7.80         5  2.73        41.73              0  \n",
            "4          Beverages        3.50         7  1.72        26.22              2  \n",
            "..               ...         ...       ...   ...          ...            ...  \n",
            "995       Stationery        1.55        11  1.19        18.24              1  \n",
            "996    Personal Care        2.44         7  1.20        18.28              1  \n",
            "997       Stationery       17.92         2  2.51        38.35              3  \n",
            "998        Beverages       17.41         4  4.87        74.51              7  \n",
            "999       Stationery        4.11         4  1.15        17.59              0  \n",
            "\n",
            "[1000 rows x 12 columns]\n",
            "        sale_id                                               city  \\\n",
            "branch                                                               \n",
            "A        347842  New YorkNew YorkChicagoChicagoChicagoChicagoCh...   \n",
            "B        152658  Los AngelesLos AngelesLos AngelesLos AngelesLo...   \n",
            "\n",
            "                                            customer_type  \\\n",
            "branch                                                      \n",
            "A       MemberMemberNormalNormalNormalMemberNormalNorm...   \n",
            "B       NormalMemberNormalMemberMemberMemberNormalNorm...   \n",
            "\n",
            "                                                   gender  \\\n",
            "branch                                                      \n",
            "A       MaleFemaleMaleMaleMaleFemaleMaleFemaleMaleMale...   \n",
            "B       FemaleFemaleFemaleMaleMaleFemaleFemaleMaleFema...   \n",
            "\n",
            "                                             product_name  \\\n",
            "branch                                                      \n",
            "A       ShampooAppleDetergentShampooShampooAppleDeterg...   \n",
            "B       NotebookOrange JuiceShampooShampooOrange Juice...   \n",
            "\n",
            "                                         product_category  unit_price  \\\n",
            "branch                                                                  \n",
            "A       Personal CareFruitsHouseholdStationeryPersonal...     7489.69   \n",
            "B       StationeryBeveragesHouseholdFruitsHouseholdFru...     3346.42   \n",
            "\n",
            "        quantity      tax  total_price  reward_points  \n",
            "branch                                                 \n",
            "A           6982  5417.77     82811.64           4345  \n",
            "B           3355  2340.24     35772.26           1712  \n"
          ]
        },
        {
          "output_type": "display_data",
          "data": {
            "text/plain": [
              "<Figure size 640x480 with 1 Axes>"
            ],
            "image/png": "[encoded data removed]"
          },
          "metadata": {}
        }
      ]
    },
    {
      "cell_type": "markdown",
      "source": [
        "#### Q2. Product Insights:\n",
        "\n",
        "\n",
        "*   Which product category has the highest total revenue?\n",
        "*   Create a bar chart to display the revenue of each product category.\n"
      ],
      "metadata": {
        "id": "ueCxziTl21i0"
      }
    },
    {
      "cell_type": "code",
      "source": [
        "### Max based on Product Category & Bar Chart based on Prod Category\n",
        "\n",
        "print(df_1['product_category'].max())\n",
        "\n",
        "plt.bar(df_1['product_category'], df_1['total_price'])\n",
        "plt.show()\n"
      ],
      "metadata": {
        "id": "WTdN86Fl22L9",
        "colab": {
          "base_uri": "https://localhost:8080/",
          "height": 447
        },
        "outputId": "d651f862-d8a5-4c36-ee4e-6357dae982d3"
      },
      "execution_count": 665,
      "outputs": [
        {
          "output_type": "stream",
          "name": "stdout",
          "text": [
            "Stationery\n"
          ]
        },
        {
          "output_type": "display_data",
          "data": {
            "text/plain": [
              "<Figure size 640x480 with 1 Axes>"
            ],
            "image/png": "[encoded data removed]"
          },
          "metadata": {}
        }
      ]
    },
    {
      "cell_type": "markdown",
      "source": [
        "#### Q3. City-wise Analysis:\n",
        "\n",
        "\n",
        "*   What is the average total price for sales in each city?\n",
        "*   Create a box plot to show the distribution of total prices for each city\n"
      ],
      "metadata": {
        "id": "lXoN4VAR23D-"
      }
    },
    {
      "cell_type": "code",
      "source": [
        "### Average Price for Sales citywise & Boxplot\n",
        "print(df_1.groupby(['city']).mean(numeric_only=True))\n",
        "\n",
        "chicago = df_1.loc[df_1.city == 'Chicago']['total_price']\n",
        "los_angeles = df_1.loc[df_1.city == 'Los Angeles']['total_price']\n",
        "new_york = df_1.loc[df_1.city == 'New York']['total_price']\n",
        "\n",
        "labels_1 = ['Chicago', 'Los Angeles', 'New York']\n",
        "\n",
        "plt.boxplot([chicago,los_angeles,new_york], labels = labels_1)\n",
        "plt.show()"
      ],
      "metadata": {
        "id": "RmUWXrNs23cz",
        "colab": {
          "base_uri": "https://localhost:8080/",
          "height": 621
        },
        "outputId": "69119a28-7d95-4f82-80e5-fe0c5bf67114"
      },
      "execution_count": 666,
      "outputs": [
        {
          "output_type": "stream",
          "name": "stdout",
          "text": [
            "                sale_id  unit_price   quantity       tax  total_price  \\\n",
            "city                                                                    \n",
            "Chicago      524.948485   11.060970  11.024242  8.442485   129.044576   \n",
            "Los Angeles  468.276074   10.265092  10.291411  7.178650   109.730859   \n",
            "New York     507.584302   11.161541   9.720930  7.650436   116.938750   \n",
            "\n",
            "             reward_points  \n",
            "city                        \n",
            "Chicago           6.921212  \n",
            "Los Angeles       5.251534  \n",
            "New York          5.991279  \n"
          ]
        },
        {
          "output_type": "display_data",
          "data": {
            "text/plain": [
              "<Figure size 640x480 with 1 Axes>"
            ],
            "image/png": "[encoded data removed]"
          },
          "metadata": {}
        }
      ]
    },
    {
      "cell_type": "markdown",
      "source": [
        "#### Q4. Customer Insights:\n",
        "\n",
        "\n",
        "*   What is the average spending per transaction for \"Member\" and \"Normal\" customers?\n",
        "*   Create a count plot to show the distribution of customer types across branches.\n",
        "\n"
      ],
      "metadata": {
        "id": "7cWoTt7q4Fk9"
      }
    },
    {
      "cell_type": "code",
      "source": [
        "### Customer Insights\n",
        "\n",
        "### Overall Average ## NOT ASKED\n",
        "print(\"Overall Average is:\\n\", df_1.groupby(['customer_type']).mean(numeric_only=True))\n",
        "\n",
        "### Average Spending per Transaction\n",
        "df_1['Per Transaction Mean'] = df_1['total_price']/df_1['quantity']\n",
        "print(df_1)\n",
        "\n",
        "print(\"Per Transaction Average is:\\n\", df_1.groupby(['customer_type']).mean(numeric_only=True))\n",
        "\n",
        "### Count plot for distribution of customer types across branches\n",
        "sns.countplot(df_1, x = df_1['branch'])\n",
        "plt.show()\n"
      ],
      "metadata": {
        "id": "KdjhKxNa4dne",
        "colab": {
          "base_uri": "https://localhost:8080/",
          "height": 1000
        },
        "outputId": "c6c7152c-92fc-4333-f468-6bac365c33e2"
      },
      "execution_count": 667,
      "outputs": [
        {
          "output_type": "stream",
          "name": "stdout",
          "text": [
            "Overall Average is:\n",
            "                   sale_id  unit_price   quantity       tax  total_price  \\\n",
            "customer_type                                                             \n",
            "Member         504.992248   10.952791  10.459302  8.014709   122.507035   \n",
            "Normal         495.710744   10.711715  10.206612  7.484339   114.401384   \n",
            "\n",
            "               reward_points  \n",
            "customer_type                 \n",
            "Member             11.738372  \n",
            "Normal              0.000000  \n",
            "     sale_id branch         city customer_type  gender  product_name  \\\n",
            "0          1      A     New York        Member    Male       Shampoo   \n",
            "1          2      B  Los Angeles        Normal  Female      Notebook   \n",
            "2          3      A     New York        Member  Female         Apple   \n",
            "3          4      A      Chicago        Normal    Male     Detergent   \n",
            "4          5      B  Los Angeles        Member  Female  Orange Juice   \n",
            "..       ...    ...          ...           ...     ...           ...   \n",
            "995      996      A     New York        Member  Female       Shampoo   \n",
            "996      997      A     New York        Member    Male     Detergent   \n",
            "997      998      A     New York        Member  Female       Shampoo   \n",
            "998      999      A     New York        Member  Female       Shampoo   \n",
            "999     1000      A     New York        Normal    Male  Orange Juice   \n",
            "\n",
            "    product_category  unit_price  quantity   tax  total_price  reward_points  \\\n",
            "0      Personal Care        5.50         3  1.16        17.66              1   \n",
            "1         Stationery        2.75        10  1.93        29.43              0   \n",
            "2             Fruits        1.20        15  1.26        19.26              1   \n",
            "3          Household        7.80         5  2.73        41.73              0   \n",
            "4          Beverages        3.50         7  1.72        26.22              2   \n",
            "..               ...         ...       ...   ...          ...            ...   \n",
            "995       Stationery        1.55        11  1.19        18.24              1   \n",
            "996    Personal Care        2.44         7  1.20        18.28              1   \n",
            "997       Stationery       17.92         2  2.51        38.35              3   \n",
            "998        Beverages       17.41         4  4.87        74.51              7   \n",
            "999       Stationery        4.11         4  1.15        17.59              0   \n",
            "\n",
            "     Per Transaction Mean  \n",
            "0                5.886667  \n",
            "1                2.943000  \n",
            "2                1.284000  \n",
            "3                8.346000  \n",
            "4                3.745714  \n",
            "..                    ...  \n",
            "995              1.658182  \n",
            "996              2.611429  \n",
            "997             19.175000  \n",
            "998             18.627500  \n",
            "999              4.397500  \n",
            "\n",
            "[1000 rows x 13 columns]\n",
            "Per Transaction Average is:\n",
            "                   sale_id  unit_price   quantity       tax  total_price  \\\n",
            "customer_type                                                             \n",
            "Member         504.992248   10.952791  10.459302  8.014709   122.507035   \n",
            "Normal         495.710744   10.711715  10.206612  7.484339   114.401384   \n",
            "\n",
            "               reward_points  Per Transaction Mean  \n",
            "customer_type                                       \n",
            "Member             11.738372             11.719537  \n",
            "Normal              0.000000             11.461484  \n"
          ]
        },
        {
          "output_type": "display_data",
          "data": {
            "text/plain": [
              "<Figure size 640x480 with 1 Axes>"
            ],
            "image/png": "[encoded data removed]"
          },
          "metadata": {}
        }
      ]
    }
  ]
}